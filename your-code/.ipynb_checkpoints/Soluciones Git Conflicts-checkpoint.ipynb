{
 "cells": [
  {
   "cell_type": "code",
   "execution_count": null,
   "id": "9465bd1a",
   "metadata": {},
   "outputs": [],
   "source": [
    "git clone https://github.com/mariamino/1.1-lab-resolving-git-conflicts.git"
   ]
  },
  {
   "cell_type": "code",
   "execution_count": null,
   "id": "0beb2ed0",
   "metadata": {},
   "outputs": [],
   "source": [
    "cd 1.1-lab-resolving-git-conflicts"
   ]
  },
  {
   "cell_type": "code",
   "execution_count": null,
   "id": "3478fe62",
   "metadata": {},
   "outputs": [],
   "source": [
    "git status"
   ]
  },
  {
   "cell_type": "code",
   "execution_count": null,
   "id": "f3b66e05",
   "metadata": {},
   "outputs": [],
   "source": [
    "cd 1.1-lab-resolving-git-conflicts   "
   ]
  },
  {
   "cell_type": "code",
   "execution_count": null,
   "id": "6a15df6f",
   "metadata": {},
   "outputs": [],
   "source": [
    "cd your-code"
   ]
  },
  {
   "cell_type": "code",
   "execution_count": null,
   "id": "c87e774e",
   "metadata": {},
   "outputs": [],
   "source": [
    "echo 'Maria=100' >> about-me.md"
   ]
  },
  {
   "cell_type": "code",
   "execution_count": null,
   "id": "8aba9f0c",
   "metadata": {},
   "outputs": [],
   "source": [
    "git add ."
   ]
  },
  {
   "cell_type": "code",
   "execution_count": null,
   "id": "90cbcc68",
   "metadata": {},
   "outputs": [],
   "source": [
    "git commit -m 'Cambio rama principal'"
   ]
  },
  {
   "cell_type": "code",
   "execution_count": null,
   "id": "c7dfc1d7",
   "metadata": {},
   "outputs": [],
   "source": [
    "git push"
   ]
  },
  {
   "cell_type": "code",
   "execution_count": null,
   "id": "19125d22",
   "metadata": {},
   "outputs": [],
   "source": [
    "git log"
   ]
  },
  {
   "cell_type": "code",
   "execution_count": null,
   "id": "3d64a009",
   "metadata": {},
   "outputs": [],
   "source": [
    "git reset --hard 1d27f43a492a5afbf8d6521b9c10095819c0074d"
   ]
  },
  {
   "cell_type": "code",
   "execution_count": null,
   "id": "59013641",
   "metadata": {},
   "outputs": [],
   "source": [
    "git branch 'lab-resolving-git-conflicts'"
   ]
  },
  {
   "cell_type": "code",
   "execution_count": null,
   "id": "20b01ab5",
   "metadata": {},
   "outputs": [],
   "source": [
    "git checkout lab-resolving-git-conflicts"
   ]
  },
  {
   "cell_type": "code",
   "execution_count": null,
   "id": "ddfd2e59",
   "metadata": {},
   "outputs": [],
   "source": []
  }
 ],
 "metadata": {
  "kernelspec": {
   "display_name": "clase",
   "language": "python",
   "name": "clase"
  },
  "language_info": {
   "codemirror_mode": {
    "name": "ipython",
    "version": 3
   },
   "file_extension": ".py",
   "mimetype": "text/x-python",
   "name": "python",
   "nbconvert_exporter": "python",
   "pygments_lexer": "ipython3",
   "version": "3.7.13"
  }
 },
 "nbformat": 4,
 "nbformat_minor": 5
}
