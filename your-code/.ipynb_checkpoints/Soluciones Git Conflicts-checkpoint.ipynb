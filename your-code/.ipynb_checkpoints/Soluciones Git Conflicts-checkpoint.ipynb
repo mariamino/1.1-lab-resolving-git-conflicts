{
 "cells": [
  {
   "cell_type": "code",
   "execution_count": null,
   "id": "89788966",
   "metadata": {},
   "outputs": [],
   "source": [
    "git clone https://github.com/mariamino/1.1-lab-resolving-git-conflicts.git"
   ]
  },
  {
   "cell_type": "code",
   "execution_count": null,
   "id": "0b1de510",
   "metadata": {},
   "outputs": [],
   "source": [
    "cd 1.1-lab-resolving-git-conflicts"
   ]
  },
  {
   "cell_type": "code",
   "execution_count": null,
   "id": "019ba302",
   "metadata": {},
   "outputs": [],
   "source": [
    "git status"
   ]
  },
  {
   "cell_type": "code",
   "execution_count": null,
   "id": "22c5bd87",
   "metadata": {},
   "outputs": [],
   "source": [
    "cd 1.1-lab-resolving-git-conflicts   "
   ]
  },
  {
   "cell_type": "code",
   "execution_count": null,
   "id": "7f4c72d8",
   "metadata": {},
   "outputs": [],
   "source": [
    "cd your-code"
   ]
  },
  {
   "cell_type": "code",
   "execution_count": null,
   "id": "8cff2086",
   "metadata": {},
   "outputs": [],
   "source": [
    "echo 'Maria=100' >> about-me.md"
   ]
  },
  {
   "cell_type": "code",
   "execution_count": null,
   "id": "e67785f2",
   "metadata": {},
   "outputs": [],
   "source": [
    "git add ."
   ]
  },
  {
   "cell_type": "code",
   "execution_count": null,
   "id": "dc55da41",
   "metadata": {},
   "outputs": [],
   "source": [
    "git commit -m 'Cambio rama principal'"
   ]
  },
  {
   "cell_type": "code",
   "execution_count": null,
   "id": "289c8eaf",
   "metadata": {},
   "outputs": [],
   "source": [
    "git push"
   ]
  },
  {
   "cell_type": "code",
   "execution_count": null,
   "id": "c4e748c5",
   "metadata": {},
   "outputs": [],
   "source": [
    "git log"
   ]
  },
  {
   "cell_type": "code",
   "execution_count": null,
   "id": "409bd2eb",
   "metadata": {},
   "outputs": [],
   "source": []
  },
  {
   "cell_type": "code",
   "execution_count": null,
   "id": "2683952c",
   "metadata": {},
   "outputs": [],
   "source": []
  }
 ],
 "metadata": {
  "kernelspec": {
   "display_name": "clase",
   "language": "python",
   "name": "clase"
  },
  "language_info": {
   "codemirror_mode": {
    "name": "ipython",
    "version": 3
   },
   "file_extension": ".py",
   "mimetype": "text/x-python",
   "name": "python",
   "nbconvert_exporter": "python",
   "pygments_lexer": "ipython3",
   "version": "3.7.13"
  }
 },
 "nbformat": 4,
 "nbformat_minor": 5
}
