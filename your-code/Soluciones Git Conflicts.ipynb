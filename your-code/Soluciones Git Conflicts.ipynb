{
 "cells": [
  {
   "cell_type": "code",
   "execution_count": null,
   "id": "9cfe42d8",
   "metadata": {},
   "outputs": [],
   "source": [
    "git clone https://github.com/mariamino/1.1-lab-resolving-git-conflicts.git"
   ]
  },
  {
   "cell_type": "code",
   "execution_count": null,
   "id": "afcdcc6d",
   "metadata": {},
   "outputs": [],
   "source": [
    "cd 1.1-lab-resolving-git-conflicts"
   ]
  },
  {
   "cell_type": "code",
   "execution_count": null,
   "id": "f3fcf0e9",
   "metadata": {},
   "outputs": [],
   "source": [
    "git status"
   ]
  },
  {
   "cell_type": "code",
   "execution_count": null,
   "id": "f1451af7",
   "metadata": {},
   "outputs": [],
   "source": [
    "cd 1.1-lab-resolving-git-conflicts   "
   ]
  },
  {
   "cell_type": "code",
   "execution_count": null,
   "id": "d69b2d50",
   "metadata": {},
   "outputs": [],
   "source": [
    "cd your-code"
   ]
  },
  {
   "cell_type": "code",
   "execution_count": null,
   "id": "19349dd6",
   "metadata": {},
   "outputs": [],
   "source": [
    "echo 'Maria=100' >> about-me.md"
   ]
  },
  {
   "cell_type": "code",
   "execution_count": null,
   "id": "41107b0d",
   "metadata": {},
   "outputs": [],
   "source": [
    "git add ."
   ]
  },
  {
   "cell_type": "code",
   "execution_count": null,
   "id": "2a501584",
   "metadata": {},
   "outputs": [],
   "source": [
    "git commit -m 'Cambio rama principal'"
   ]
  },
  {
   "cell_type": "code",
   "execution_count": null,
   "id": "c306e985",
   "metadata": {},
   "outputs": [],
   "source": [
    "git push"
   ]
  },
  {
   "cell_type": "code",
   "execution_count": null,
   "id": "9bb20990",
   "metadata": {},
   "outputs": [],
   "source": [
    "git log"
   ]
  },
  {
   "cell_type": "code",
   "execution_count": null,
   "id": "bebd9f72",
   "metadata": {},
   "outputs": [],
   "source": [
    "git reset --hard 1d27f43a492a5afbf8d6521b9c10095819c0074d"
   ]
  },
  {
   "cell_type": "code",
   "execution_count": null,
   "id": "d0efcc41",
   "metadata": {},
   "outputs": [],
   "source": [
    "git branch 'lab-resolving-git-conflicts'"
   ]
  },
  {
   "cell_type": "code",
   "execution_count": null,
   "id": "a4d9e485",
   "metadata": {},
   "outputs": [],
   "source": [
    "git checkout lab-resolving-git-conflicts"
   ]
  },
  {
   "cell_type": "code",
   "execution_count": null,
   "id": "fbe22a11",
   "metadata": {},
   "outputs": [],
   "source": []
  }
 ],
 "metadata": {
  "kernelspec": {
   "display_name": "clase",
   "language": "python",
   "name": "clase"
  },
  "language_info": {
   "codemirror_mode": {
    "name": "ipython",
    "version": 3
   },
   "file_extension": ".py",
   "mimetype": "text/x-python",
   "name": "python",
   "nbconvert_exporter": "python",
   "pygments_lexer": "ipython3",
   "version": "3.7.13"
  }
 },
 "nbformat": 4,
 "nbformat_minor": 5
}
